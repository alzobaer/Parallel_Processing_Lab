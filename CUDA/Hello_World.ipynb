{
  "nbformat": 4,
  "nbformat_minor": 0,
  "metadata": {
    "colab": {
      "provenance": [],
      "gpuType": "T4"
    },
    "kernelspec": {
      "name": "python3",
      "display_name": "Python 3"
    },
    "language_info": {
      "name": "python"
    },
    "accelerator": "GPU"
  },
  "cells": [
    {
      "cell_type": "code",
      "execution_count": 1,
      "metadata": {
        "colab": {
          "base_uri": "https://localhost:8080/"
        },
        "id": "0euOqZfTBg0E",
        "outputId": "11e5ccaf-1039-4514-e389-732b67cf6545"
      },
      "outputs": [
        {
          "output_type": "stream",
          "name": "stdout",
          "text": [
            "nvcc: NVIDIA (R) Cuda compiler driver\n",
            "Copyright (c) 2005-2023 NVIDIA Corporation\n",
            "Built on Tue_Aug_15_22:02:13_PDT_2023\n",
            "Cuda compilation tools, release 12.2, V12.2.140\n",
            "Build cuda_12.2.r12.2/compiler.33191640_0\n"
          ]
        }
      ],
      "source": [
        "!nvcc --version"
      ]
    },
    {
      "cell_type": "code",
      "source": [
        "!pip install git+https://github.com/andreinechaev/nvcc4jupyter.git\n"
      ],
      "metadata": {
        "id": "C0AOEEwHBq3P",
        "colab": {
          "base_uri": "https://localhost:8080/"
        },
        "outputId": "1dd2088a-e135-4d9a-8e52-4565e23c2588"
      },
      "execution_count": 2,
      "outputs": [
        {
          "output_type": "stream",
          "name": "stdout",
          "text": [
            "Collecting git+https://github.com/andreinechaev/nvcc4jupyter.git\n",
            "  Cloning https://github.com/andreinechaev/nvcc4jupyter.git to /tmp/pip-req-build-z4bofrgl\n",
            "  Running command git clone --filter=blob:none --quiet https://github.com/andreinechaev/nvcc4jupyter.git /tmp/pip-req-build-z4bofrgl\n",
            "  Resolved https://github.com/andreinechaev/nvcc4jupyter.git to commit 0d2ab99cccbbc682722e708515fe9c4cfc50185a\n",
            "  Preparing metadata (setup.py) ... \u001b[?25l\u001b[?25hdone\n",
            "Building wheels for collected packages: NVCCPlugin\n",
            "  Building wheel for NVCCPlugin (setup.py) ... \u001b[?25l\u001b[?25hdone\n",
            "  Created wheel for NVCCPlugin: filename=NVCCPlugin-0.0.2-py3-none-any.whl size=4716 sha256=0b57952f214bc57276ad7de94a84e6864bcec079a9b7c51bcc793d95b98c2e63\n",
            "  Stored in directory: /tmp/pip-ephem-wheel-cache-otxas7f8/wheels/a8/b9/18/23f8ef71ceb0f63297dd1903aedd067e6243a68ea756d6feea\n",
            "Successfully built NVCCPlugin\n",
            "Installing collected packages: NVCCPlugin\n",
            "Successfully installed NVCCPlugin-0.0.2\n"
          ]
        }
      ]
    },
    {
      "cell_type": "code",
      "source": [
        "\t%load_ext nvcc_plugin\n"
      ],
      "metadata": {
        "colab": {
          "base_uri": "https://localhost:8080/"
        },
        "id": "1T3osIwdCC56",
        "outputId": "37c2a444-296d-4224-becd-d68254935d0b"
      },
      "execution_count": 3,
      "outputs": [
        {
          "output_type": "stream",
          "name": "stdout",
          "text": [
            "created output directory at /content/src\n",
            "Out bin /content/result.out\n"
          ]
        }
      ]
    },
    {
      "cell_type": "code",
      "source": [
        "%%cu\n",
        "#include <iostream>\n",
        "\n",
        "__global__ void helloWorld() {\n",
        "    int x = threadIdx.x;\n",
        "    printf(\"Hello, World! from thread %d\\n\", x);\n",
        "}\n",
        "\n",
        "int main() {\n",
        "    int blockSize = 5;  // number of blocks\n",
        "    int threads = 2;    // number of threads per block\n",
        "\n",
        "    // launch carnel\n",
        "    helloWorld <<< blockSize, threads >>> ();\n",
        "\n",
        "    // Wait for GPU to finish before exiting\n",
        "    cudaDeviceSynchronize();\n",
        "\n",
        "\n",
        "    return 0;\n",
        "}\n",
        "\n"
      ],
      "metadata": {
        "colab": {
          "base_uri": "https://localhost:8080/"
        },
        "id": "sMz4Ji9BCGNK",
        "outputId": "aa527abe-f2ab-4ae5-c31d-f81f80804631"
      },
      "execution_count": 5,
      "outputs": [
        {
          "output_type": "stream",
          "name": "stdout",
          "text": [
            "Hello, World! from thread 0\n",
            "Hello, World! from thread 1\n",
            "Hello, World! from thread 0\n",
            "Hello, World! from thread 1\n",
            "Hello, World! from thread 0\n",
            "Hello, World! from thread 1\n",
            "Hello, World! from thread 0\n",
            "Hello, World! from thread 1\n",
            "Hello, World! from thread 0\n",
            "Hello, World! from thread 1\n",
            "\n"
          ]
        }
      ]
    }
  ]
}