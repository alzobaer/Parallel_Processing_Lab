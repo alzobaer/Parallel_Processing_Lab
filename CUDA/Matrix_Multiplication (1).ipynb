{
  "nbformat": 4,
  "nbformat_minor": 0,
  "metadata": {
    "colab": {
      "provenance": [],
      "gpuType": "T4"
    },
    "kernelspec": {
      "name": "python3",
      "display_name": "Python 3"
    },
    "language_info": {
      "name": "python"
    },
    "accelerator": "GPU"
  },
  "cells": [
    {
      "cell_type": "code",
      "source": [
        "!nvcc --version"
      ],
      "metadata": {
        "colab": {
          "base_uri": "https://localhost:8080/"
        },
        "id": "G_z2nbZb-sNA",
        "outputId": "25d6077b-408b-4001-df58-562b7f93e55e"
      },
      "execution_count": 1,
      "outputs": [
        {
          "output_type": "stream",
          "name": "stdout",
          "text": [
            "nvcc: NVIDIA (R) Cuda compiler driver\n",
            "Copyright (c) 2005-2023 NVIDIA Corporation\n",
            "Built on Tue_Aug_15_22:02:13_PDT_2023\n",
            "Cuda compilation tools, release 12.2, V12.2.140\n",
            "Build cuda_12.2.r12.2/compiler.33191640_0\n"
          ]
        }
      ]
    },
    {
      "cell_type": "code",
      "source": [
        "\n",
        "!pip install git+https://github.com/andreinechaev/nvcc4jupyter.git\n"
      ],
      "metadata": {
        "colab": {
          "base_uri": "https://localhost:8080/"
        },
        "id": "Skl7Tja0_xJ-",
        "outputId": "44512fc0-8d45-4157-cad7-e63d96c52ced"
      },
      "execution_count": 2,
      "outputs": [
        {
          "output_type": "stream",
          "name": "stdout",
          "text": [
            "Collecting git+https://github.com/andreinechaev/nvcc4jupyter.git\n",
            "  Cloning https://github.com/andreinechaev/nvcc4jupyter.git to /tmp/pip-req-build-2q6mpagv\n",
            "  Running command git clone --filter=blob:none --quiet https://github.com/andreinechaev/nvcc4jupyter.git /tmp/pip-req-build-2q6mpagv\n",
            "  Resolved https://github.com/andreinechaev/nvcc4jupyter.git to commit 0d2ab99cccbbc682722e708515fe9c4cfc50185a\n",
            "  Preparing metadata (setup.py) ... \u001b[?25l\u001b[?25hdone\n",
            "Building wheels for collected packages: NVCCPlugin\n",
            "  Building wheel for NVCCPlugin (setup.py) ... \u001b[?25l\u001b[?25hdone\n",
            "  Created wheel for NVCCPlugin: filename=NVCCPlugin-0.0.2-py3-none-any.whl size=4716 sha256=3d88837a701fa564ad1922237eccbaf986e15f7cb8037eb67cbf0e96e9eaf99f\n",
            "  Stored in directory: /tmp/pip-ephem-wheel-cache-hqe5i409/wheels/a8/b9/18/23f8ef71ceb0f63297dd1903aedd067e6243a68ea756d6feea\n",
            "Successfully built NVCCPlugin\n",
            "Installing collected packages: NVCCPlugin\n",
            "Successfully installed NVCCPlugin-0.0.2\n"
          ]
        }
      ]
    },
    {
      "cell_type": "code",
      "source": [
        "\t%load_ext nvcc_plugin\n"
      ],
      "metadata": {
        "colab": {
          "base_uri": "https://localhost:8080/"
        },
        "id": "in0b_Lr2_7WS",
        "outputId": "a96d0c62-8ec5-4d95-f05f-cfc3b73054de"
      },
      "execution_count": 3,
      "outputs": [
        {
          "output_type": "stream",
          "name": "stdout",
          "text": [
            "created output directory at /content/src\n",
            "Out bin /content/result.out\n"
          ]
        }
      ]
    },
    {
      "cell_type": "code",
      "source": [
        "%%cu\n",
        "#include <bits/stdc++.h>\n",
        "\n",
        "/*# include <cuda.h>\n",
        "  # include <fstream>\n",
        "  # include <iostream>\n",
        "  # include <sstream>\n",
        "  # include <string>*/\n",
        "\n",
        "using namespace std;\n",
        "\n",
        "__global__ void matproduct(int *l, int *m, int *n, int row1, int col1, int row2, int col2){\n",
        "    int x = blockIdx.x;   // id of col2\n",
        "    int y = blockIdx.y;   // id of row1\n",
        "    int z = blockIdx.z;   // id of num_matrices\n",
        "\n",
        "    int i;\n",
        "    n[(col2 * row1 * z) + (col2 * y) + x] = 0;\n",
        "\n",
        "    for (i = 0; i < col1; i++){\n",
        "        n[(col2 * row1 * z) + (col2 * y) + x] += l[(col1 * row1 * z) + (col1 * y) + i] * m[(col2 * row2 * z) + (col2 * i) + x];\n",
        "    }\n",
        "}\n",
        "\n",
        "int main(){\n",
        "    int num_matrices; //1000\n",
        "    int row1; //25\n",
        "    int col1; //25\n",
        "    int row2; //25\n",
        "    int col2; //25\n",
        "\n",
        "    ifstream file(\"mat_mul.txt\");\n",
        "    if (!file.is_open()){\n",
        "        cerr << \"Unable to open file.\" << endl;\n",
        "        return 1;\n",
        "    }\n",
        "\n",
        "    string line;\n",
        "    while (getline(file, line)){\n",
        "        istringstream iss(line);\n",
        "        int k, m, n, p;\n",
        "\n",
        "        if (iss >> k >> m >> n >> p){\n",
        "            cout << \"K: \" << k << \", M: \" << m << \", N: \" << n << \", p: \" << p << endl;\n",
        "            num_matrices = k;\n",
        "            row1 = m;\n",
        "            col1 = n;\n",
        "            row2 = n;\n",
        "            col2 = p;\n",
        "        }\n",
        "        else{\n",
        "            cerr << \"Failed to k, m, n, p from the line.\" << endl;\n",
        "        }\n",
        "    }\n",
        "\n",
        "    // host variables\n",
        "    int a[row1 * col1 * num_matrices];\n",
        "    int b[row2 * col2 * num_matrices];\n",
        "    int c[row1 * col2 * num_matrices];\n",
        "\n",
        "    // device variables\n",
        "    int *d, *e, *f;\n",
        "    int i, j;\n",
        "\n",
        "    cudaEvent_t start, end;\n",
        "    cudaEventCreate(&start);\n",
        "    cudaEventCreate(&end);\n",
        "    cudaEventRecord(start);\n",
        "\n",
        "    // Initialize matrices a and b\n",
        "    int element = 1;\n",
        "    for (int k = 0; k < num_matrices; k++){\n",
        "        for (i = 0; i < row1; i++){\n",
        "            for (j = 0; j < col1; j++){\n",
        "                a[(col1 * row1 * k) + (col1 * i) + j] = 1;\n",
        "            }\n",
        "        }\n",
        "\n",
        "        element = 2;\n",
        "        for (i = 0; i < row2; i++){\n",
        "            for (j = 0; j < col2; j++){\n",
        "                b[(col2 * row2 * k) + (col2 * i) + j] = 1;\n",
        "            }\n",
        "        }\n",
        "    }\n",
        "\n",
        "    // allocate memory on device\n",
        "    cudaMalloc((void **)&d, row1 * col1 * num_matrices * sizeof(int));\n",
        "    cudaMalloc((void **)&e, row2 * col2 * num_matrices * sizeof(int));\n",
        "    cudaMalloc((void **)&f, row1 * col2 * num_matrices * sizeof(int));\n",
        "\n",
        "    // copy input data to the device\n",
        "    cudaMemcpy(d, a, row1 * col1 * num_matrices * sizeof(int), cudaMemcpyHostToDevice);\n",
        "    cudaMemcpy(e, b, row2 * col2 * num_matrices * sizeof(int), cudaMemcpyHostToDevice);\n",
        "\n",
        "    // grid(x_dimension, y_dimension, z_dimension of the grid)\n",
        "    dim3 grid(col2, row1, num_matrices);\n",
        "\n",
        "    // launch kernel\n",
        "    matproduct<<<grid, 1>>>(d, e, f, row1, col1, row2, col2);     // single thread per block\n",
        "    // Wait for GPU to finish before exiting\n",
        "    cudaDeviceSynchronize();\n",
        "\n",
        "    // copy data from device to host\n",
        "    cudaMemcpy(c, f, row1 * col2 * num_matrices * sizeof(int), cudaMemcpyDeviceToHost);\n",
        "\n",
        "    printf(\"\\nProduct of matrices:\\n\");\n",
        "    for (int k = 0; k < 1; k++){\n",
        "        printf(\"Matrix %d:\\n\", k + 1);\n",
        "        for (i = 0; i < row1; i++){\n",
        "            for (j = 0; j < col2; j++){\n",
        "                printf(\"%d\\t\", c[(col2 * row1 * k) + (col2 * i) + j]);\n",
        "            }\n",
        "            printf(\"\\n\");\n",
        "        }\n",
        "        printf(\"\\n\");\n",
        "    }\n",
        "\n",
        "    cudaEventRecord(end);\n",
        "    cudaEventSynchronize(end);\n",
        "    float milliseconds = 0;\n",
        "    cudaEventElapsedTime(&milliseconds, start, end);\n",
        "    printf(\"\\nTime taken: %f\\n \", milliseconds);\n",
        "\n",
        "    cudaFree(d);\n",
        "    cudaFree(e);\n",
        "    cudaFree(f);\n",
        "\n",
        "    return 0;\n",
        "}"
      ],
      "metadata": {
        "colab": {
          "base_uri": "https://localhost:8080/"
        },
        "id": "BEy_RkPBABhc",
        "outputId": "e5c9a241-247d-4597-bdcc-d6fe51ba20a7"
      },
      "execution_count": 28,
      "outputs": [
        {
          "output_type": "stream",
          "name": "stdout",
          "text": [
            "K: 5, M: 5, N: 5, p: 5\n",
            "\n",
            "Product of matrices:\n",
            "Matrix 1:\n",
            "5\t5\t5\t5\t5\t\n",
            "5\t5\t5\t5\t5\t\n",
            "5\t5\t5\t5\t5\t\n",
            "5\t5\t5\t5\t5\t\n",
            "5\t5\t5\t5\t5\t\n",
            "\n",
            "\n",
            "Time taken: 0.379008\n",
            " \n"
          ]
        }
      ]
    }
  ]
}