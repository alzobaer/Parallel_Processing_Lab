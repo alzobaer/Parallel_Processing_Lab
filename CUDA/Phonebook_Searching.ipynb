{
  "nbformat": 4,
  "nbformat_minor": 0,
  "metadata": {
    "colab": {
      "provenance": [],
      "gpuType": "T4"
    },
    "kernelspec": {
      "name": "python3",
      "display_name": "Python 3"
    },
    "language_info": {
      "name": "python"
    },
    "accelerator": "GPU"
  },
  "cells": [
    {
      "cell_type": "code",
      "execution_count": 1,
      "metadata": {
        "colab": {
          "base_uri": "https://localhost:8080/"
        },
        "id": "ENooPMiO2Sl6",
        "outputId": "1c4aaef4-9b7e-4b5b-f843-a74a821a9232"
      },
      "outputs": [
        {
          "output_type": "stream",
          "name": "stdout",
          "text": [
            "nvcc: NVIDIA (R) Cuda compiler driver\n",
            "Copyright (c) 2005-2023 NVIDIA Corporation\n",
            "Built on Tue_Aug_15_22:02:13_PDT_2023\n",
            "Cuda compilation tools, release 12.2, V12.2.140\n",
            "Build cuda_12.2.r12.2/compiler.33191640_0\n"
          ]
        }
      ],
      "source": [
        "!nvcc --version"
      ]
    },
    {
      "cell_type": "code",
      "source": [
        "!pip install git+https://github.com/andreinechaev/nvcc4jupyter.git\n"
      ],
      "metadata": {
        "colab": {
          "base_uri": "https://localhost:8080/"
        },
        "id": "GpXTluQx2zSO",
        "outputId": "b539a705-1c78-43b0-f93b-15315a6da17f"
      },
      "execution_count": 2,
      "outputs": [
        {
          "output_type": "stream",
          "name": "stdout",
          "text": [
            "Collecting git+https://github.com/andreinechaev/nvcc4jupyter.git\n",
            "  Cloning https://github.com/andreinechaev/nvcc4jupyter.git to /tmp/pip-req-build-udqehl4j\n",
            "  Running command git clone --filter=blob:none --quiet https://github.com/andreinechaev/nvcc4jupyter.git /tmp/pip-req-build-udqehl4j\n",
            "  Resolved https://github.com/andreinechaev/nvcc4jupyter.git to commit 0d2ab99cccbbc682722e708515fe9c4cfc50185a\n",
            "  Preparing metadata (setup.py) ... \u001b[?25l\u001b[?25hdone\n",
            "Building wheels for collected packages: NVCCPlugin\n",
            "  Building wheel for NVCCPlugin (setup.py) ... \u001b[?25l\u001b[?25hdone\n",
            "  Created wheel for NVCCPlugin: filename=NVCCPlugin-0.0.2-py3-none-any.whl size=4716 sha256=3016150bb4599efcd50d54c9bb0ac85c53ef45e82cef23eaccc784292a9fed2a\n",
            "  Stored in directory: /tmp/pip-ephem-wheel-cache-pr0h4fks/wheels/a8/b9/18/23f8ef71ceb0f63297dd1903aedd067e6243a68ea756d6feea\n",
            "Successfully built NVCCPlugin\n",
            "Installing collected packages: NVCCPlugin\n",
            "Successfully installed NVCCPlugin-0.0.2\n"
          ]
        }
      ]
    },
    {
      "cell_type": "code",
      "source": [
        "%load_ext nvcc_plugin\n"
      ],
      "metadata": {
        "colab": {
          "base_uri": "https://localhost:8080/"
        },
        "id": "hODBWaYM3DaS",
        "outputId": "13c84480-3dc4-4447-d935-a8b44fbbaaf7"
      },
      "execution_count": 3,
      "outputs": [
        {
          "output_type": "stream",
          "name": "stdout",
          "text": [
            "created output directory at /content/src\n",
            "Out bin /content/result.out\n"
          ]
        }
      ]
    },
    {
      "cell_type": "code",
      "source": [
        "%%cu\n",
        "#include <iostream>\n",
        "#include <fstream>\n",
        "#include <sstream>\n",
        "#include <vector>\n",
        "#include <cstring>\n",
        "#include <cuda_runtime.h>\n",
        "\n",
        "#define T 1000 // Maximum number of contacts\n",
        "#define S 50   // Maximum string length for name and phone\n",
        "\n",
        "using namespace std;\n",
        "\n",
        "struct Contact {\n",
        "    char name[S];\n",
        "    char phone[S];\n",
        "};\n",
        "\n",
        "// Kernel\n",
        "__global__ void searchContact(Contact* contacts, const char* searchName, int* result, int totalContacts) {\n",
        "    int i = threadIdx.x;\n",
        "\n",
        "    // Calculate the length of the searchName and contacts[i].name\n",
        "    int searchNameLen = 0;\n",
        "    for (int j = 0; searchName[j] != '\\0'; j++)\n",
        "        searchNameLen++;\n",
        "\n",
        "    int contactLen = 0;\n",
        "    for (int j = 0; contacts[i].name[j] != '\\0'; j++)\n",
        "        contactLen++;\n",
        "\n",
        "    if (searchNameLen <= contactLen) {\n",
        "        int strLen = searchNameLen;\n",
        "        int flag = 1;\n",
        "\n",
        "        for (int j = 0; j < strLen; ++j) {\n",
        "            // Check for character-wise equality\n",
        "            if (searchName[j] != contacts[i].name[j]) {\n",
        "                flag = 0;\n",
        "                break;\n",
        "            }\n",
        "        }\n",
        "\n",
        "        // This part is for exact matching\n",
        "        /*if (searchNameLen != contactLen) {\n",
        "            flag = 0;\n",
        "        }*/\n",
        "\n",
        "        if (flag == 1) {\n",
        "            // If match is found, store the index in result array\n",
        "            result[i] = i;\n",
        "        } else {\n",
        "            // If no match is found, store -1 in result array\n",
        "            result[i] = -1;\n",
        "        }\n",
        "    } else {\n",
        "        // If searchName is longer than contacts[i].name, store -1 in result array\n",
        "        result[i] = -1;\n",
        "    }\n",
        "}\n",
        "\n",
        "int main() {\n",
        "    // Host variables\n",
        "    Contact contacts[T];\n",
        "    char searchName[S] = \"Joh\"; // Default search name\n",
        "\n",
        "    const char* phonebookFile_1 = \"phonebook1.txt\";\n",
        "    const char* phonebookFile_2 = \"phonebook2.txt\";\n",
        "\n",
        "    int totalContacts = 0;\n",
        "    string line;\n",
        "\n",
        "    // Read data from file_1\n",
        "    ifstream file_1(phonebookFile_1);\n",
        "\n",
        "    if (!file_1.is_open()) {\n",
        "        cerr << \"Error opening one or more files!\" << endl;\n",
        "        return 1;\n",
        "    }\n",
        "\n",
        "    // Parse each line and store in contacts array\n",
        "    while (getline(file_1, line)) {\n",
        "        istringstream iss(line);\n",
        "        iss.getline(contacts[totalContacts].name, S, ',');  // extract characters from 'iss' until a comma (',') is encountered,\n",
        "        iss.getline(contacts[totalContacts].phone, S);      // extract characters from 'iss' until a newline or end of stream is encountered\n",
        "        totalContacts += 1;\n",
        "    }\n",
        "    file_1.close();\n",
        "\n",
        "    // Read data from file_2\n",
        "    ifstream file_2(phonebookFile_2);\n",
        "\n",
        "    if (!file_2.is_open()) {\n",
        "        cerr << \"Error opening one or more files!\" << endl;\n",
        "        return 1;\n",
        "    }\n",
        "    // Parse each line and store in contacts array\n",
        "    while (getline(file_2, line)) {\n",
        "        istringstream iss(line);\n",
        "        iss.getline(contacts[totalContacts].name, S, ',');\n",
        "        iss.getline(contacts[totalContacts].phone, S);\n",
        "        totalContacts += 1;\n",
        "    }\n",
        "\n",
        "    file_2.close();\n",
        "\n",
        "    // CUDA event variables for timing\n",
        "    cudaEvent_t start, end;\n",
        "    cudaEventCreate(&start);\n",
        "    cudaEventCreate(&end);\n",
        "    cudaEventRecord(start);\n",
        "\n",
        "    // Device memory\n",
        "    Contact* dContacts;\n",
        "    char* dSearchName;\n",
        "    int* dResult;\n",
        "\n",
        "    int t = totalContacts;\n",
        "\n",
        "    // Allocate device memory\n",
        "    cudaMalloc((void**)&dContacts, sizeof(Contact) * t);\n",
        "    cudaMalloc((void**)&dSearchName, S * sizeof(char));\n",
        "    cudaMalloc((void**)&dResult, sizeof(int) * t);\n",
        "\n",
        "    // Copy data from host to device\n",
        "    cudaMemcpy(dContacts, contacts, sizeof(Contact) * t, cudaMemcpyHostToDevice);\n",
        "    cudaMemcpy(dSearchName, searchName, sizeof(char) * S, cudaMemcpyHostToDevice);\n",
        "\n",
        "    // Set kernel launch parameters\n",
        "    dim3 gridSize(1);   // Set the x, y, and z dimensions of the grid to 1.\n",
        "    dim3 blockSize(t);\n",
        "\n",
        "    // Launch kernel\n",
        "    searchContact<<<gridSize, blockSize>>>(dContacts, dSearchName, dResult, totalContacts);\n",
        "    cudaDeviceSynchronize();\n",
        "\n",
        "    // Copy result back to host\n",
        "    int result[t] = {0};\n",
        "    cudaMemcpy(result, dResult, sizeof(int) * t, cudaMemcpyDeviceToHost);\n",
        "\n",
        "    int notFound = 1;\n",
        "\n",
        "    // Print results\n",
        "    for (int y = 0; y < t; y++) {\n",
        "        if (result[y] >= 0) {\n",
        "            notFound = 0;\n",
        "            cout << contacts[result[y]].name << \"  \" << contacts[result[y]].phone << endl;\n",
        "        }\n",
        "    }\n",
        "\n",
        "    if (notFound) {\n",
        "        cout << \"Not Found\" << endl;\n",
        "    }\n",
        "\n",
        "    // Record and print execution time\n",
        "    cudaEventRecord(end);\n",
        "    cudaEventSynchronize(end);\n",
        "    float milliseconds = 0;\n",
        "    cudaEventElapsedTime(&milliseconds, start, end);\n",
        "    cout << \"\\nTime taken: \" << milliseconds << \" milliseconds.\" << endl;\n",
        "\n",
        "    // Free device memory\n",
        "    cudaFree(dContacts);\n",
        "    cudaFree(dResult);\n",
        "\n",
        "    return 0;\n",
        "}\n"
      ],
      "metadata": {
        "colab": {
          "base_uri": "https://localhost:8080/"
        },
        "id": "qhmYBdJa4f0F",
        "outputId": "0dc9874e-ef6e-40a2-f1a4-fbf4abaa59db"
      },
      "execution_count": 18,
      "outputs": [
        {
          "output_type": "stream",
          "name": "stdout",
          "text": [
            "John Doe  123-456-7890\r\n",
            "John Smith  1234567890\r\n",
            "John Lewis  0123456789\r\n",
            "John Moris  123-456-7877\r\n",
            "\n",
            "Time taken: 0.428832 milliseconds.\n",
            "\n"
          ]
        }
      ]
    }
  ]
}