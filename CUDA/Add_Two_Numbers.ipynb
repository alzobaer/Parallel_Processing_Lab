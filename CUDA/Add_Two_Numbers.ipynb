{
  "nbformat": 4,
  "nbformat_minor": 0,
  "metadata": {
    "colab": {
      "provenance": [],
      "gpuType": "T4"
    },
    "kernelspec": {
      "name": "python3",
      "display_name": "Python 3"
    },
    "language_info": {
      "name": "python"
    },
    "accelerator": "GPU"
  },
  "cells": [
    {
      "cell_type": "code",
      "execution_count": 2,
      "metadata": {
        "colab": {
          "base_uri": "https://localhost:8080/"
        },
        "id": "4oMRH1Ak9ZOo",
        "outputId": "3bb370d2-a87a-45f9-fbef-def9f4d2e8a1"
      },
      "outputs": [
        {
          "output_type": "stream",
          "name": "stdout",
          "text": [
            "nvcc: NVIDIA (R) Cuda compiler driver\n",
            "Copyright (c) 2005-2023 NVIDIA Corporation\n",
            "Built on Tue_Aug_15_22:02:13_PDT_2023\n",
            "Cuda compilation tools, release 12.2, V12.2.140\n",
            "Build cuda_12.2.r12.2/compiler.33191640_0\n"
          ]
        }
      ],
      "source": [
        "!nvcc --version\n"
      ]
    },
    {
      "cell_type": "code",
      "source": [
        "!pip install git+https://github.com/andreinechaev/nvcc4jupyter.git\n"
      ],
      "metadata": {
        "colab": {
          "base_uri": "https://localhost:8080/"
        },
        "id": "svxFGG5Y9ffK",
        "outputId": "76d52af1-8353-45b6-c8ba-254b53715945"
      },
      "execution_count": 3,
      "outputs": [
        {
          "output_type": "stream",
          "name": "stdout",
          "text": [
            "Collecting git+https://github.com/andreinechaev/nvcc4jupyter.git\n",
            "  Cloning https://github.com/andreinechaev/nvcc4jupyter.git to /tmp/pip-req-build-l0roeba5\n",
            "  Running command git clone --filter=blob:none --quiet https://github.com/andreinechaev/nvcc4jupyter.git /tmp/pip-req-build-l0roeba5\n",
            "  Resolved https://github.com/andreinechaev/nvcc4jupyter.git to commit 0d2ab99cccbbc682722e708515fe9c4cfc50185a\n",
            "  Preparing metadata (setup.py) ... \u001b[?25l\u001b[?25hdone\n",
            "Building wheels for collected packages: NVCCPlugin\n",
            "  Building wheel for NVCCPlugin (setup.py) ... \u001b[?25l\u001b[?25hdone\n",
            "  Created wheel for NVCCPlugin: filename=NVCCPlugin-0.0.2-py3-none-any.whl size=4716 sha256=a30bdb8ba3dde4b561a23f2e088bfcd1b61b5012eecf2ca962f6754ad2d3384c\n",
            "  Stored in directory: /tmp/pip-ephem-wheel-cache-tdomgqo5/wheels/a8/b9/18/23f8ef71ceb0f63297dd1903aedd067e6243a68ea756d6feea\n",
            "Successfully built NVCCPlugin\n",
            "Installing collected packages: NVCCPlugin\n",
            "Successfully installed NVCCPlugin-0.0.2\n"
          ]
        }
      ]
    },
    {
      "cell_type": "code",
      "source": [
        "%load_ext nvcc_plugin"
      ],
      "metadata": {
        "colab": {
          "base_uri": "https://localhost:8080/"
        },
        "id": "PVDxgaYY9xC_",
        "outputId": "e517601d-98ec-472d-82de-680ca34dd110"
      },
      "execution_count": 4,
      "outputs": [
        {
          "output_type": "stream",
          "name": "stdout",
          "text": [
            "created output directory at /content/src\n",
            "Out bin /content/result.out\n"
          ]
        }
      ]
    },
    {
      "cell_type": "code",
      "source": [
        "%%cu\n",
        "#include <iostream>\n",
        "\n",
        "// CUDA kernel to add two numbers\n",
        "__global__ void addNumbers(const int *x, const int *y, int *z) {\n",
        "    *z = *x + *y;\n",
        "}\n",
        "\n",
        "int main() {\n",
        "\n",
        "    // Host variables\n",
        "    int hostX = 5;\n",
        "    int hostY = 7;\n",
        "    int hostZ;\n",
        "\n",
        "    // Device variables\n",
        "    int* deviceX;\n",
        "    int* deviceY;\n",
        "    int* deviceZ;\n",
        "\n",
        "    // Allocate memory on the device\n",
        "    cudaMalloc((void**)&deviceX, sizeof(int));\n",
        "    cudaMalloc((void**)&deviceY, sizeof(int));\n",
        "    cudaMalloc((void**)&deviceZ, sizeof(int));\n",
        "\n",
        "    // Copy input data to the device\n",
        "    cudaMemcpy(deviceX, &hostX, sizeof(int), cudaMemcpyHostToDevice);\n",
        "    cudaMemcpy(deviceY, &hostY, sizeof(int), cudaMemcpyHostToDevice);\n",
        "\n",
        "    // Launch kernel\n",
        "    addNumbers<<<3, 1>>>(deviceX, deviceY, deviceZ);\n",
        "\n",
        "    // Copy result back to host\n",
        "    cudaMemcpy(&hostZ, deviceZ, sizeof(int), cudaMemcpyDeviceToHost);\n",
        "\n",
        "    // Print the result\n",
        "    std::cout << \"Summation: \" << hostZ << std::endl;\n",
        "\n",
        "    // Free memory\n",
        "    cudaFree(deviceX);\n",
        "    cudaFree(deviceY);\n",
        "    cudaFree(deviceZ);\n",
        "\n",
        "    return 0;\n",
        "}\n"
      ],
      "metadata": {
        "colab": {
          "base_uri": "https://localhost:8080/"
        },
        "id": "6YFajgA394Ww",
        "outputId": "08349ad7-3d82-498a-e4c5-dc9ae0c4d360"
      },
      "execution_count": 7,
      "outputs": [
        {
          "output_type": "stream",
          "name": "stdout",
          "text": [
            "Summation: 12\n",
            "\n"
          ]
        }
      ]
    }
  ]
}