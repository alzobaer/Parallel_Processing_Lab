{
  "nbformat": 4,
  "nbformat_minor": 0,
  "metadata": {
    "colab": {
      "provenance": [],
      "gpuType": "T4"
    },
    "kernelspec": {
      "name": "python3",
      "display_name": "Python 3"
    },
    "language_info": {
      "name": "python"
    },
    "accelerator": "GPU"
  },
  "cells": [
    {
      "cell_type": "code",
      "execution_count": 1,
      "metadata": {
        "colab": {
          "base_uri": "https://localhost:8080/"
        },
        "id": "E0bEgDY0fS49",
        "outputId": "d00311a3-e66c-41ec-d88f-17048e572c65"
      },
      "outputs": [
        {
          "output_type": "stream",
          "name": "stdout",
          "text": [
            "nvcc: NVIDIA (R) Cuda compiler driver\n",
            "Copyright (c) 2005-2023 NVIDIA Corporation\n",
            "Built on Tue_Aug_15_22:02:13_PDT_2023\n",
            "Cuda compilation tools, release 12.2, V12.2.140\n",
            "Build cuda_12.2.r12.2/compiler.33191640_0\n"
          ]
        }
      ],
      "source": [
        "!nvcc --version"
      ]
    },
    {
      "cell_type": "code",
      "source": [
        "!pip install git+https://github.com/andreinechaev/nvcc4jupyter.git\n"
      ],
      "metadata": {
        "colab": {
          "base_uri": "https://localhost:8080/"
        },
        "id": "BvJ93eaHfvi8",
        "outputId": "41d033f4-5612-48de-aa56-c5c63ec477ee"
      },
      "execution_count": 2,
      "outputs": [
        {
          "output_type": "stream",
          "name": "stdout",
          "text": [
            "Collecting git+https://github.com/andreinechaev/nvcc4jupyter.git\n",
            "  Cloning https://github.com/andreinechaev/nvcc4jupyter.git to /tmp/pip-req-build-1ghsxmev\n",
            "  Running command git clone --filter=blob:none --quiet https://github.com/andreinechaev/nvcc4jupyter.git /tmp/pip-req-build-1ghsxmev\n",
            "  Resolved https://github.com/andreinechaev/nvcc4jupyter.git to commit 0d2ab99cccbbc682722e708515fe9c4cfc50185a\n",
            "  Preparing metadata (setup.py) ... \u001b[?25l\u001b[?25hdone\n",
            "Building wheels for collected packages: NVCCPlugin\n",
            "  Building wheel for NVCCPlugin (setup.py) ... \u001b[?25l\u001b[?25hdone\n",
            "  Created wheel for NVCCPlugin: filename=NVCCPlugin-0.0.2-py3-none-any.whl size=4716 sha256=61e146f6e92ff2f6f0cdb3d44566210c3f7c7b9fe6a231f2926c4c783057537a\n",
            "  Stored in directory: /tmp/pip-ephem-wheel-cache-oe46da31/wheels/a8/b9/18/23f8ef71ceb0f63297dd1903aedd067e6243a68ea756d6feea\n",
            "Successfully built NVCCPlugin\n",
            "Installing collected packages: NVCCPlugin\n",
            "Successfully installed NVCCPlugin-0.0.2\n"
          ]
        }
      ]
    },
    {
      "cell_type": "code",
      "source": [
        "\t%load_ext nvcc_plugin\n"
      ],
      "metadata": {
        "colab": {
          "base_uri": "https://localhost:8080/"
        },
        "id": "Yxr9Lii-f0j8",
        "outputId": "d8fbb361-a695-432f-daab-11ee73decf57"
      },
      "execution_count": 3,
      "outputs": [
        {
          "output_type": "stream",
          "name": "stdout",
          "text": [
            "created output directory at /content/src\n",
            "Out bin /content/result.out\n"
          ]
        }
      ]
    },
    {
      "cell_type": "code",
      "source": [
        "%%cu\n",
        "#include <iostream>\n",
        "\n",
        "__global__ void add(int *x, int *y, int *z){\n",
        "    int id = threadIdx.x;\n",
        "    z[id] = x[id] + y[id];\n",
        "}\n",
        "\n",
        "int main(){\n",
        "\n",
        "    // host variables\n",
        "    int a[5] = {1, 2, 3, 4, 5};\n",
        "    int b[5] = {2, 3, 4, 5, 6};\n",
        "    int c[5];\n",
        "\n",
        "    // device variables\n",
        "    int *d, *e, *f;\n",
        "\n",
        "    // memory allocation on the device\n",
        "    cudaMalloc((void **) &d, 5 * sizeof(int));\n",
        "    cudaMalloc((void **) &e, 5 * sizeof(int));\n",
        "    cudaMalloc((void **) &f, 5 * sizeof(int));\n",
        "\n",
        "    // copy input data to the device\n",
        "    cudaMemcpy(d, &a, 5 * sizeof(int), cudaMemcpyHostToDevice);\n",
        "    cudaMemcpy(e, &b, 5 * sizeof(int), cudaMemcpyHostToDevice);\n",
        "\n",
        "    // launch kernel\n",
        "    int block_num = 1;\n",
        "    int threads_per_block = 6;\n",
        "    add<<<block_num, threads_per_block>>>(d, e, f);\n",
        "    cudaDeviceSynchronize();\n",
        "\n",
        "    // copy data from device to host\n",
        "    cudaMemcpy(&c, f, 5*sizeof(int), cudaMemcpyDeviceToHost);\n",
        "\n",
        "    // print result\n",
        "    printf(\"Result: \");\n",
        "    for(int i = 0; i < 5; i++){\n",
        "        printf(\"%d \", c[i]);\n",
        "    }\n",
        "\n",
        "    // free memmory allocated to pointers\n",
        "    cudaFree(d);\n",
        "    cudaFree(e);\n",
        "    cudaFree(f);\n",
        "\n",
        "    return 0;\n",
        "}"
      ],
      "metadata": {
        "colab": {
          "base_uri": "https://localhost:8080/"
        },
        "id": "Br4iW7Eof5OQ",
        "outputId": "e0eabc62-49fa-4492-ff01-8ba3b3883213"
      },
      "execution_count": 4,
      "outputs": [
        {
          "output_type": "stream",
          "name": "stdout",
          "text": [
            "Result: 3 5 7 9 11 \n"
          ]
        }
      ]
    }
  ]
}