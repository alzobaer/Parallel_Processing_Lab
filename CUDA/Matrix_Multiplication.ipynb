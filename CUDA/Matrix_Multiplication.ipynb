{
  "nbformat": 4,
  "nbformat_minor": 0,
  "metadata": {
    "colab": {
      "provenance": [],
      "gpuType": "T4"
    },
    "kernelspec": {
      "name": "python3",
      "display_name": "Python 3"
    },
    "language_info": {
      "name": "python"
    },
    "accelerator": "GPU"
  },
  "cells": [
    {
      "cell_type": "markdown",
      "source": [
        "to check the version of the NVIDIA CUDA Compiler (nvcc)"
      ],
      "metadata": {
        "id": "ubpW_tHUn5MN"
      }
    },
    {
      "cell_type": "code",
      "execution_count": 1,
      "metadata": {
        "colab": {
          "base_uri": "https://localhost:8080/"
        },
        "id": "X9l0PWVn6VqH",
        "outputId": "56245020-d1b9-474d-c80e-826a7831de45"
      },
      "outputs": [
        {
          "output_type": "stream",
          "name": "stdout",
          "text": [
            "nvcc: NVIDIA (R) Cuda compiler driver\n",
            "Copyright (c) 2005-2023 NVIDIA Corporation\n",
            "Built on Tue_Aug_15_22:02:13_PDT_2023\n",
            "Cuda compilation tools, release 12.2, V12.2.140\n",
            "Build cuda_12.2.r12.2/compiler.33191640_0\n"
          ]
        }
      ],
      "source": [
        "!nvcc --version"
      ]
    },
    {
      "cell_type": "markdown",
      "source": [
        "nvcc4jupyter package is typically used to enable CUDA compilation directly within Jupyter Notebooks"
      ],
      "metadata": {
        "id": "ZdS5NbSyoPhs"
      }
    },
    {
      "cell_type": "code",
      "source": [
        "!pip install git+https://github.com/andreinechaev/nvcc4jupyter.git\n"
      ],
      "metadata": {
        "colab": {
          "base_uri": "https://localhost:8080/"
        },
        "id": "1ljIdbU56k5e",
        "outputId": "7b230783-a5ed-4937-d4c8-4583b967be53"
      },
      "execution_count": 2,
      "outputs": [
        {
          "output_type": "stream",
          "name": "stdout",
          "text": [
            "Collecting git+https://github.com/andreinechaev/nvcc4jupyter.git\n",
            "  Cloning https://github.com/andreinechaev/nvcc4jupyter.git to /tmp/pip-req-build-w6q50w43\n",
            "  Running command git clone --filter=blob:none --quiet https://github.com/andreinechaev/nvcc4jupyter.git /tmp/pip-req-build-w6q50w43\n",
            "  Resolved https://github.com/andreinechaev/nvcc4jupyter.git to commit 0d2ab99cccbbc682722e708515fe9c4cfc50185a\n",
            "  Preparing metadata (setup.py) ... \u001b[?25l\u001b[?25hdone\n",
            "Building wheels for collected packages: NVCCPlugin\n",
            "  Building wheel for NVCCPlugin (setup.py) ... \u001b[?25l\u001b[?25hdone\n",
            "  Created wheel for NVCCPlugin: filename=NVCCPlugin-0.0.2-py3-none-any.whl size=4716 sha256=e943138a852cdd464dac15cdcf50f92041a1be9e0b7c27dbe380c0db6b42d64c\n",
            "  Stored in directory: /tmp/pip-ephem-wheel-cache-yeaugp2c/wheels/a8/b9/18/23f8ef71ceb0f63297dd1903aedd067e6243a68ea756d6feea\n",
            "Successfully built NVCCPlugin\n",
            "Installing collected packages: NVCCPlugin\n",
            "Successfully installed NVCCPlugin-0.0.2\n"
          ]
        }
      ]
    },
    {
      "cell_type": "code",
      "source": [
        "%load_ext nvcc_plugin"
      ],
      "metadata": {
        "colab": {
          "base_uri": "https://localhost:8080/"
        },
        "id": "HGPLW4jS6suh",
        "outputId": "2d47b0e0-ea3e-49c6-8a0a-90162b4854ca"
      },
      "execution_count": 3,
      "outputs": [
        {
          "output_type": "stream",
          "name": "stdout",
          "text": [
            "created output directory at /content/src\n",
            "Out bin /content/result.out\n"
          ]
        }
      ]
    },
    {
      "cell_type": "markdown",
      "source": [
        "CUDA Code"
      ],
      "metadata": {
        "id": "2We8yQyXof_W"
      }
    },
    {
      "cell_type": "code",
      "source": [
        "%%cu\n",
        "//#include <bits/stdc++.h>\n",
        "# include <cuda.h>\n",
        "# include <fstream>\n",
        "# include <iostream>\n",
        "# include <sstream>\n",
        "# include <string>\n",
        "\n",
        "using namespace std;\n",
        "\n",
        "__global__ void matproduct(int *l, int *m, int *n, int row1, int col1, int row2, int col2){\n",
        "    int x = blockIdx.x;   // id of col2\n",
        "    int y = blockIdx.y;   // id of row1\n",
        "    int z = blockIdx.z;   // id of num_matrices\n",
        "\n",
        "    int i;\n",
        "    n[(col2 * row1 * z) + (col2 * y) + x] = 0;\n",
        "\n",
        "    for (i = 0; i < col1; i++){\n",
        "        n[(col2 * row1 * z) + (col2 * y) + x] += l[(col1 * row1 * z) + (col1 * y) + i] * m[(col2 * row2 * z) + (col2 * i) + x];\n",
        "    }\n",
        "}\n",
        "\n",
        "int main(){\n",
        "    int num_matrices; //1000\n",
        "    int row1; //25\n",
        "    int col1; //25\n",
        "    int row2; //25\n",
        "    int col2; //25\n",
        "\n",
        "    ifstream file(\"mat_mul.txt\");\n",
        "    if (!file.is_open()){\n",
        "        cerr << \"Unable to open file.\" << endl;\n",
        "        return 1;\n",
        "    }\n",
        "\n",
        "    string line;\n",
        "    while (getline(file, line)){\n",
        "        istringstream iss(line);\n",
        "        int k, m, n, p;\n",
        "\n",
        "        if (iss >> k >> m >> n >> p){\n",
        "            cout << \"K: \" << k << \", M: \" << m << \", N: \" << n << \", p: \" << p << endl << endl;\n",
        "            num_matrices = k;\n",
        "            row1 = m;\n",
        "            col1 = n;\n",
        "            row2 = n;\n",
        "            col2 = p;\n",
        "        }\n",
        "        else{\n",
        "            cerr << \"Failed to k, m, n, p from the line.\" << endl;\n",
        "        }\n",
        "    }\n",
        "\n",
        "    // host variables\n",
        "    int a[row1 * col1 * num_matrices];\n",
        "    int b[row2 * col2 * num_matrices];\n",
        "    int c[row1 * col2 * num_matrices];\n",
        "\n",
        "    // device variables\n",
        "    int *d, *e, *f;\n",
        "    int i, j;\n",
        "\n",
        "    cudaEvent_t start, end;\n",
        "    cudaEventCreate(&start);\n",
        "    cudaEventCreate(&end);\n",
        "    cudaEventRecord(start);\n",
        "\n",
        "    // Initialize matrices a and b\n",
        "    srand(time(0));\n",
        "    int element = 1;\n",
        "    for (int k = 0; k < num_matrices; k++){\n",
        "        for (i = 0; i < row1; i++){\n",
        "            for (j = 0; j < col1; j++){\n",
        "                a[(col1 * row1 * k) + (col1 * i) + j] = rand() % 10;\n",
        "            }\n",
        "        }\n",
        "\n",
        "        element = 2;\n",
        "        for (i = 0; i < row2; i++){\n",
        "            for (j = 0; j < col2; j++){\n",
        "                b[(col2 * row2 * k) + (col2 * i) + j] = rand() % 10;\n",
        "            }\n",
        "        }\n",
        "    }\n",
        "\n",
        "    // allocate memory on device\n",
        "    cudaMalloc((void **)&d, row1 * col1 * num_matrices * sizeof(int));\n",
        "    cudaMalloc((void **)&e, row2 * col2 * num_matrices * sizeof(int));\n",
        "    cudaMalloc((void **)&f, row1 * col2 * num_matrices * sizeof(int));\n",
        "\n",
        "    // copy input data to the device\n",
        "    cudaMemcpy(d, a, row1 * col1 * num_matrices * sizeof(int), cudaMemcpyHostToDevice);\n",
        "    cudaMemcpy(e, b, row2 * col2 * num_matrices * sizeof(int), cudaMemcpyHostToDevice);\n",
        "\n",
        "    // grid(x_dimension, y_dimension, z_dimension of the grid)\n",
        "    dim3 grid(col2, row1, num_matrices);\n",
        "\n",
        "    // launch kernel\n",
        "    matproduct<<<grid, 1>>>(d, e, f, row1, col1, row2, col2);     // single thread per block\n",
        "    // Wait for GPU to finish before exiting\n",
        "    cudaDeviceSynchronize();\n",
        "\n",
        "    // copy data from device to host\n",
        "    cudaMemcpy(c, f, row1 * col2 * num_matrices * sizeof(int), cudaMemcpyDeviceToHost);\n",
        "\n",
        "    for (int k = 0; k < 1; k++){\n",
        "        printf(\"Matrix A[%d]:\\n\", k);\n",
        "        for (i = 0; i < row1; i++){\n",
        "            for (j = 0; j < col2; j++){\n",
        "                printf(\"%d\\t\", a[(col1 * row1 * k) + (col1 * i) + j]);\n",
        "            }\n",
        "            printf(\"\\n\");\n",
        "        }\n",
        "        printf(\"\\n\");\n",
        "\n",
        "        printf(\"Matrix B[%d]:\\n\", k);\n",
        "        for (i = 0; i < row1; i++){\n",
        "            for (j = 0; j < col2; j++){\n",
        "                printf(\"%d\\t\", b[(col2 * row2 * k) + (col2 * i) + j]);\n",
        "            }\n",
        "            printf(\"\\n\");\n",
        "        }\n",
        "        printf(\"\\n\");\n",
        "\n",
        "        printf(\"\\nMatrix C[%d]:\\n\", k);\n",
        "        for (i = 0; i < row1; i++){\n",
        "            for (j = 0; j < col2; j++){\n",
        "                printf(\"%d\\t\", c[(col2 * row1 * k) + (col2 * i) + j]);\n",
        "            }\n",
        "            printf(\"\\n\");\n",
        "        }\n",
        "        printf(\"\\n\");\n",
        "    }\n",
        "\n",
        "    cudaEventRecord(end);\n",
        "    cudaEventSynchronize(end);\n",
        "    float milliseconds = 0;\n",
        "    cudaEventElapsedTime(&milliseconds, start, end);\n",
        "    printf(\"Time taken: %f\\n \", milliseconds);\n",
        "\n",
        "    cudaFree(d);\n",
        "    cudaFree(e);\n",
        "    cudaFree(f);\n",
        "\n",
        "    return 0;\n",
        "}"
      ],
      "metadata": {
        "colab": {
          "base_uri": "https://localhost:8080/"
        },
        "id": "Z_C-bnLA_hB9",
        "outputId": "6f4a78fa-2a94-4756-f83a-e44087e45fc6"
      },
      "execution_count": 20,
      "outputs": [
        {
          "output_type": "stream",
          "name": "stdout",
          "text": [
            "K: 100, M: 3, N: 3, p: 3\n",
            "\n",
            "Matrix A[0]:\n",
            "0\t2\t2\t\n",
            "7\t9\t1\t\n",
            "7\t4\t7\t\n",
            "\n",
            "Matrix B[0]:\n",
            "5\t0\t6\t\n",
            "7\t4\t3\t\n",
            "8\t6\t8\t\n",
            "\n",
            "\n",
            "Matrix C[0]:\n",
            "30\t20\t22\t\n",
            "106\t42\t77\t\n",
            "119\t58\t110\t\n",
            "\n",
            "Time taken: 0.410752\n",
            " \n"
          ]
        }
      ]
    }
  ]
}